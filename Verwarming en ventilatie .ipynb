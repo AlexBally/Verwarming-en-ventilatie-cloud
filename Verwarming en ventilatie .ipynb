{
 "cells": [
  {
   "cell_type": "markdown",
   "id": "ddfca621",
   "metadata": {},
   "source": [
    "# Verwarming en ventilatie"
   ]
  },
  {
   "cell_type": "markdown",
   "id": "ea532ad9",
   "metadata": {},
   "source": [
    "Programma van eisen: comfortcriteria"
   ]
  },
  {
   "cell_type": "markdown",
   "id": "2e189d66",
   "metadata": {},
   "source": [
    "Gebouwontwerp\n",
    "\n",
    "Maak een ontwerp van een eenvoudig gebouw dat geschikt is als landschapskantoor voor 10 personen.\n",
    "Voor de eenvoud veronderstel je dat het deel van een grote gebouw is en dat het:\n",
    "\n",
    "- een rechthoekig vorm heeft,\n",
    "- slechts aan één (lange) zijde buitenwand heeft,\n",
    "- een plat dak heeft,\n",
    "- de andere wanden slechts binnenwanden zijn die je gebouwzone scheiden van andere zones op gelijke\n",
    "temperatuur\n",
    "- de vloer je gebouwzone scheidt van een identieke gebouwzone eronder.\n",
    "\n",
    "Zoek op de website van het Vlaams Energie-agentschap https://www.energiesparen.be/EPB-pedia\n",
    "naar voorbeelden om typische opbouw van buitenmuren, binnenmuren, plat dak, . . . . Zorg dat je bouwdelen\n",
    "voldoen aan de huidige EPB-wetgeving voor tertiaire gebouwen."
   ]
  },
  {
   "cell_type": "markdown",
   "id": "433edd7c",
   "metadata": {},
   "source": [
    "Uit de norm NBN EN 15 251 is bepaald dat.\n",
    "\n",
    "De Opp per persoon voor een landschap kantoor gebouw categorie II is 15m².\n",
    "\n",
    "De minimum temperatuur is 20°C en de maximum temperatuur is 26°C.\n",
    "\n",
    "De minimum luchtvochtigheid is 25% en maximum luchtvochtigheid is 60%\n",
    "\n",
    "Het nodige luchtdebiet voor deze ruimte is 0,42 l/s*m²\n",
    "\n",
    "Als verlichting is er 500 lumen/m² nodig."
   ]
  },
  {
   "cell_type": "markdown",
   "id": "c9ec8748",
   "metadata": {},
   "source": [
    "Berekening Verlichting:"
   ]
  },
  {
   "cell_type": "code",
   "execution_count": 6,
   "id": "31dc5cce",
   "metadata": {},
   "outputs": [
    {
     "name": "stdout",
     "output_type": "stream",
     "text": [
      "De hoeveelheid vloeroppervlakte die voorzien moet worden is 150 m²\n",
      "De nodige hoeveelheid lampen is 540.0 stuks\n"
     ]
    }
   ],
   "source": [
    "#aantal personen\n",
    "n = 10 \n",
    "#opp per persoon\n",
    "a = 15\n",
    "#totale oppervlakte\n",
    "A = n * a\n",
    "\n",
    "#hoeveelheid lumen per lamp\n",
    "La = 1800\n",
    "#nodige hoeveelheid lumen per m²\n",
    "Li = 500\n",
    "#Nodig aantal lampen\n",
    "y = (A*La)/Li\n",
    "\n",
    "print ('De hoeveelheid vloeroppervlakte die voorzien moet worden is', A, 'm²')\n",
    "print ('De nodige hoeveelheid lampen is',y, 'stuks')"
   ]
  },
  {
   "cell_type": "markdown",
   "id": "ffc97ce7",
   "metadata": {},
   "source": [
    "Berekening luchtdebiet\n",
    "Gegevens uit norm NBN EN 15 251"
   ]
  },
  {
   "cell_type": "markdown",
   "id": "a2a09742",
   "metadata": {},
   "source": [
    "De formule voor het luchtdebiet is qtot = n * qn + A * qb"
   ]
  },
  {
   "cell_type": "code",
   "execution_count": 4,
   "id": "87aa196b",
   "metadata": {},
   "outputs": [
    {
     "name": "stdout",
     "output_type": "stream",
     "text": [
      "110.0 [l/s] is de nodige ventilatie.\n"
     ]
    }
   ],
   "source": [
    "#aantal personen\n",
    "n = 10\n",
    "#Nodige ventilatie per persoon in [l/s, pp]\n",
    "Qn = 0.5 \n",
    "#opp per persoon\n",
    "a = 15 \n",
    "#totale oppervlakte\n",
    "A = n * a\n",
    "#(nog na te kijken) in [(l/s)/m²]\n",
    "Qb = 0.7\n",
    "\n",
    "#Totaal nodige debiet ventilatie in [l/s]\n",
    "Qtot = n * Qn + A * Qb\n",
    "\n",
    "print (Qtot, '[l/s] is de nodige ventilatie.')"
   ]
  },
  {
   "cell_type": "code",
   "execution_count": null,
   "id": "0c4e9f9c",
   "metadata": {},
   "outputs": [],
   "source": []
  },
  {
   "cell_type": "code",
   "execution_count": null,
   "id": "e7abd006",
   "metadata": {},
   "outputs": [],
   "source": []
  }
 ],
 "metadata": {
  "kernelspec": {
   "display_name": "Python 3 (ipykernel)",
   "language": "python",
   "name": "python3"
  },
  "language_info": {
   "codemirror_mode": {
    "name": "ipython",
    "version": 3
   },
   "file_extension": ".py",
   "mimetype": "text/x-python",
   "name": "python",
   "nbconvert_exporter": "python",
   "pygments_lexer": "ipython3",
   "version": "3.9.7"
  }
 },
 "nbformat": 4,
 "nbformat_minor": 5
}
