{
 "cells": [
  {
   "cell_type": "markdown",
   "id": "18867580",
   "metadata": {},
   "source": [
    "# Verwarming en ventilatie"
   ]
  },
  {
   "cell_type": "markdown",
   "id": "5dd4d604",
   "metadata": {},
   "source": [
    "Programma van eisen: comfortcriteria"
   ]
  },
  {
   "cell_type": "markdown",
   "id": "5cf4be5e",
   "metadata": {},
   "source": [
    "Gebouwontwerp\n",
    "\n",
    "Maak een ontwerp van een eenvoudig gebouw dat geschikt is als landschapskantoor voor 10 personen.\n",
    "Voor de eenvoud veronderstel je dat het deel van een grote gebouw is en dat het:\n",
    "\n",
    "- een rechthoekig vorm heeft,\n",
    "- slechts aan één (lange) zijde buitenwand heeft,\n",
    "- een plat dak heeft,\n",
    "- de andere wanden slechts binnenwanden zijn die je gebouwzone scheiden van andere zones op gelijke\n",
    "temperatuur\n",
    "- de vloer je gebouwzone scheidt van een identieke gebouwzone eronder.\n",
    "\n",
    "Zoek op de website van het Vlaams Energie-agentschap https://www.energiesparen.be/EPB-pedia\n",
    "naar voorbeelden om typische opbouw van buitenmuren, binnenmuren, plat dak, . . . . Zorg dat je bouwdelen\n",
    "voldoen aan de huidige EPB-wetgeving voor tertiaire gebouwen."
   ]
  },
  {
   "cell_type": "markdown",
   "id": "88384349",
   "metadata": {},
   "source": [
    "Uit de norm NBN EN 15 251 is bepaald dat.\n",
    "\n",
    "De Opp per persoon voor een landschap kantoor gebouw categorie II is 15m².\n",
    "\n",
    "De minimum temperatuur is 20°C en de maximum temperatuur is 26°C.\n",
    "\n",
    "De minimum luchtvochtigheid is 25% en maximum luchtvochtigheid is 60%\n",
    "\n",
    "Het nodige luchtdebiet voor deze ruimte is 0,42 l/s*m²\n",
    "\n",
    "Als verlichting is er 500 lumen/m² nodig."
   ]
  },
  {
   "cell_type": "markdown",
   "id": "33433317",
   "metadata": {},
   "source": [
    "Berekening Verlichting:"
   ]
  },
  {
   "cell_type": "code",
   "execution_count": 2,
   "id": "39378de6",
   "metadata": {},
   "outputs": [
    {
     "ename": "SyntaxError",
     "evalue": "invalid syntax (Temp/ipykernel_20144/620066911.py, line 7)",
     "output_type": "error",
     "traceback": [
      "\u001b[1;36m  File \u001b[1;32m\"C:\\Users\\alexa\\AppData\\Local\\Temp/ipykernel_20144/620066911.py\"\u001b[1;36m, line \u001b[1;32m7\u001b[0m\n\u001b[1;33m    Print 'y'\u001b[0m\n\u001b[1;37m          ^\u001b[0m\n\u001b[1;31mSyntaxError\u001b[0m\u001b[1;31m:\u001b[0m invalid syntax\n"
     ]
    }
   ],
   "source": [
    "A = 150\n",
    "La = 1800\n",
    "Li = 500\n",
    "\n",
    "y = (A*500)/1800\n",
    "\n",
    "Print y"
   ]
  },
  {
   "cell_type": "code",
   "execution_count": null,
   "id": "09253944",
   "metadata": {},
   "outputs": [],
   "source": []
  }
 ],
 "metadata": {
  "kernelspec": {
   "display_name": "Python 3 (ipykernel)",
   "language": "python",
   "name": "python3"
  },
  "language_info": {
   "codemirror_mode": {
    "name": "ipython",
    "version": 3
   },
   "file_extension": ".py",
   "mimetype": "text/x-python",
   "name": "python",
   "nbconvert_exporter": "python",
   "pygments_lexer": "ipython3",
   "version": "3.9.7"
  }
 },
 "nbformat": 4,
 "nbformat_minor": 5
}
